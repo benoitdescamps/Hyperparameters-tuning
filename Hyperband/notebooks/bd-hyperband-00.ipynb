{
 "cells": [
  {
   "cell_type": "code",
   "execution_count": 6,
   "metadata": {
    "collapsed": true
   },
   "outputs": [],
   "source": [
    "import numpy as np\n",
    "def get_random_hyperparameter_configuration():\n",
    "    #print(\"get random hyperparameter configuration...\")\n",
    "    return 0\n",
    "def run_then_return_val_loss(num_iters,hyperparameters):\n",
    "    return np.random.rand()"
   ]
  },
  {
   "cell_type": "code",
   "execution_count": 10,
   "metadata": {},
   "outputs": [
    {
     "name": "stdout",
     "output_type": "stream",
     "text": [
      "4 405\n",
      "4 81 1.0\n",
      "3 27 3.0\n",
      "2 9 9.0\n",
      "1 6 27.0\n",
      "0 5 81\n"
     ]
    }
   ],
   "source": [
    "#from problem import get_random_hyperparameter_configuration,run_then_return_val_loss\n",
    "\n",
    "max_iter = 81  # maximum iterations/epochs per configuration\n",
    "eta = 3 # defines downsampling rate (default=3)\n",
    "logeta = lambda x: np.log(x)/np.log(eta)\n",
    "s_max = int(logeta(max_iter))  # number of unique executions of Successive Halving (minus one)\n",
    "B = (s_max+1)*max_iter  # total number of iterations (without reuse) per execution of Succesive Halving (n,r)\n",
    "\n",
    "print(s_max,B)\n",
    "#### Begin Finite Horizon Hyperband outlerloop. Repeat indefinetely.\n",
    "for s in reversed(range(s_max+1)):\n",
    "    n = int(np.ceil(int(B/max_iter/(s+1))*eta**s)) # initial number of configurations\n",
    "    r = max_iter*eta**(-s) # initial number of iterations to run configurations for\n",
    "    print(s,n,r)\n",
    "    #### Begin Finite Horizon Successive Halving with (n,r)\n",
    "    T = [ get_random_hyperparameter_configuration() for i in range(n) ] \n",
    "    for i in range(s+1):\n",
    "        # Run each of the n_i configs for r_i iterations and keep best n_i/eta\n",
    "        n_i = n*eta**(-i)\n",
    "        r_i = r*eta**(i)\n",
    "        val_losses = [ run_then_return_val_loss(num_iters=r_i,hyperparameters=t) for t in T ]\n",
    "        T = [ T[i] for i in np.argsort(val_losses)[0:int( n_i/eta )] ]"
   ]
  },
  {
   "cell_type": "code",
   "execution_count": 1,
   "metadata": {},
   "outputs": [
    {
     "data": {
      "text/plain": [
       "Pipeline(memory=None,\n",
       "     steps=[('features', DummyTransformer()), ('classifier', XGBRegressor(base_score=0.5, booster='gbtree', colsample_bylevel=1,\n",
       "       colsample_bytree=1, gamma=0, learning_rate=0.1, max_delta_step=0,\n",
       "       max_depth=1, min_child_weight=1, missing=None, n_estimators=2,\n",
       "       n_jobs=1, nthread=None, objective='reg:linear', random_state=0,\n",
       "       reg_alpha=0, reg_lambda=1, scale_pos_weight=1, seed=None,\n",
       "       silent=True, subsample=1))])"
      ]
     },
     "execution_count": 1,
     "metadata": {},
     "output_type": "execute_result"
    }
   ],
   "source": [
    "import sys\n",
    "sys.path.append('../src/')\n",
    "#Dummy pipeline\n",
    "#Pipeline\n",
    "from sklearn.pipeline import Pipeline, FeatureUnion\n",
    "#Transformers\n",
    "from sklearn.preprocessing import LabelEncoder, OneHotEncoder,Imputer,StandardScaler\n",
    "from Transformers import DummyTransformer\n",
    "#Estimators\n",
    "from xgboost import XGBRegressor\n",
    "from lightgbm import LGBMRegressor\n",
    "# specification of different model types and their defaults\n",
    "model_dictionary = {'xgb': XGBRegressor(n_estimators=2,max_depth=1),\n",
    "                   'lgbm': LGBMRegressor()}\n",
    "\n",
    "model_name = 'xgb'\n",
    "\n",
    "estimator = Pipeline([\n",
    "        ('features',DummyTransformer()),  \n",
    "        ('classifier', model_dictionary[model_name]),\n",
    "])\n",
    "\n",
    "estimator"
   ]
  },
  {
   "cell_type": "code",
   "execution_count": 2,
   "metadata": {},
   "outputs": [
    {
     "data": {
      "text/plain": [
       "Pipeline(memory=None,\n",
       "     steps=[('features', DummyTransformer()), ('classifier', XGBRegressor(base_score=0.5, booster='gbtree', colsample_bylevel=1,\n",
       "       colsample_bytree=1, gamma=0, learning_rate=0.1, max_delta_step=0,\n",
       "       max_depth=1, min_child_weight=1, missing=None, n_estimators=2,\n",
       "       n_jobs=1, nthread=None, objective='reg:linear', random_state=0,\n",
       "       reg_alpha=0, reg_lambda=1, scale_pos_weight=1, seed=None,\n",
       "       silent=True, subsample=1))])"
      ]
     },
     "execution_count": 2,
     "metadata": {},
     "output_type": "execute_result"
    }
   ],
   "source": [
    "import numpy as np\n",
    "X = np.random.randn(100,10)\n",
    "y = np.random.randn(100,)\n",
    "estimator.fit(X,y)"
   ]
  },
  {
   "cell_type": "code",
   "execution_count": 35,
   "metadata": {},
   "outputs": [
    {
     "data": {
      "text/plain": [
       "True"
      ]
     },
     "execution_count": 35,
     "metadata": {},
     "output_type": "execute_result"
    }
   ],
   "source": [
    "isinstance(estimator,Pipeline)"
   ]
  },
  {
   "cell_type": "code",
   "execution_count": null,
   "metadata": {
    "collapsed": true
   },
   "outputs": [],
   "source": []
  },
  {
   "cell_type": "code",
   "execution_count": 34,
   "metadata": {},
   "outputs": [
    {
     "data": {
      "text/plain": [
       "sklearn.pipeline.Pipeline"
      ]
     },
     "execution_count": 34,
     "metadata": {},
     "output_type": "execute_result"
    }
   ],
   "source": [
    "type(estimator)"
   ]
  },
  {
   "cell_type": "code",
   "execution_count": 33,
   "metadata": {},
   "outputs": [
    {
     "data": {
      "text/plain": [
       "XGBRegressor(base_score=0.5, booster='gbtree', colsample_bylevel=1,\n",
       "       colsample_bytree=1, gamma=0, learning_rate=0.1, max_delta_step=0,\n",
       "       max_depth=1, min_child_weight=1, missing=None, n_estimators=2,\n",
       "       n_jobs=1, nthread=None, objective='reg:linear', random_state=0,\n",
       "       reg_alpha=0, reg_lambda=1, scale_pos_weight=1, seed=None,\n",
       "       silent=True, subsample=1)"
      ]
     },
     "execution_count": 33,
     "metadata": {},
     "output_type": "execute_result"
    }
   ],
   "source": [
    "estimator.steps[-1][1]"
   ]
  },
  {
   "cell_type": "code",
   "execution_count": 3,
   "metadata": {
    "collapsed": true
   },
   "outputs": [],
   "source": [
    "from xgboost import DMatrix\n",
    "import xgboost as xgb"
   ]
  },
  {
   "cell_type": "code",
   "execution_count": 4,
   "metadata": {},
   "outputs": [
    {
     "ename": "NameError",
     "evalue": "name 'booster' is not defined",
     "traceback": [
      "\u001b[1;31m---------------------------------------------------------------------------\u001b[0m",
      "\u001b[1;31mNameError\u001b[0m                                 Traceback (most recent call last)",
      "\u001b[1;32m<ipython-input-4-ea12eb3b361f>\u001b[0m in \u001b[0;36m<module>\u001b[1;34m()\u001b[0m\n\u001b[1;32m----> 1\u001b[1;33m \u001b[0mbooster\u001b[0m\u001b[1;33m.\u001b[0m\u001b[0mupd\u001b[0m\u001b[1;33m\u001b[0m\u001b[0m\n\u001b[0m",
      "\u001b[1;31mNameError\u001b[0m: name 'booster' is not defined"
     ],
     "output_type": "error"
    }
   ],
   "source": [
    "booster.upd"
   ]
  },
  {
   "cell_type": "code",
   "execution_count": 15,
   "metadata": {
    "collapsed": true
   },
   "outputs": [],
   "source": [
    "dtrain = DMatrix(data=X,label=y)\n",
    "dtest = DMatrix(data=X[:5,:],label=y[:5])"
   ]
  },
  {
   "cell_type": "code",
   "execution_count": 5,
   "metadata": {
    "collapsed": true
   },
   "outputs": [],
   "source": [
    "booster = estimator.named_steps['classifier'].get_booster()"
   ]
  },
  {
   "cell_type": "code",
   "execution_count": 28,
   "metadata": {},
   "outputs": [
    {
     "data": {
      "text/plain": [
       "c_void_p(1586060045184)"
      ]
     },
     "execution_count": 28,
     "metadata": {},
     "output_type": "execute_result"
    }
   ],
   "source": [
    "booster.handle"
   ]
  },
  {
   "cell_type": "code",
   "execution_count": 29,
   "metadata": {},
   "outputs": [
    {
     "name": "stdout",
     "output_type": "stream",
     "text": [
      "14\n"
     ]
    }
   ],
   "source": [
    "booster.update(dtrain,iteration=2)\n",
    "#booster.predict(dtest)\n",
    "print(len(booster.get_dump()))"
   ]
  },
  {
   "cell_type": "code",
   "execution_count": 24,
   "metadata": {},
   "outputs": [
    {
     "data": {
      "text/plain": [
       "['0:[f3<-0.40985] yes=1,no=2,missing=1\\n\\t1:leaf=-0.0746135\\n\\t2:leaf=-0.0209408\\n',\n",
       " '0:[f5<1.07952] yes=1,no=2,missing=1\\n\\t1:leaf=-0.0425191\\n\\t2:leaf=0.0290848\\n',\n",
       " '0:[f3<-0.40985] yes=1,no=2,missing=1\\n\\t1:leaf=-0.0639376\\n\\t2:leaf=-0.0155038\\n',\n",
       " '0:[f5<1.07952] yes=1,no=2,missing=1\\n\\t1:leaf=-0.0352744\\n\\t2:leaf=0.0290507\\n',\n",
       " '0:[f3<-0.40985] yes=1,no=2,missing=1\\n\\t1:leaf=-0.0549295\\n\\t2:leaf=-0.0112337\\n',\n",
       " '0:[f3<-1.84525] yes=1,no=2,missing=1\\n\\t1:leaf=-0.134355\\n\\t2:leaf=-0.0191237\\n',\n",
       " '0:[f1<-1.07552] yes=1,no=2,missing=1\\n\\t1:leaf=0.0244435\\n\\t2:leaf=-0.0281457\\n',\n",
       " '0:[f5<1.07952] yes=1,no=2,missing=1\\n\\t1:leaf=-0.025145\\n\\t2:leaf=0.0324047\\n',\n",
       " '0:[f3<-1.84525] yes=1,no=2,missing=1\\n\\t1:leaf=-0.121845\\n\\t2:leaf=-0.0133385\\n',\n",
       " '0:[f1<0.613191] yes=1,no=2,missing=1\\n\\t1:leaf=-0.0253251\\n\\t2:leaf=0.016763\\n',\n",
       " '0:[f4<0.434072] yes=1,no=2,missing=1\\n\\t1:leaf=-0.027279\\n\\t2:leaf=0.0096614\\n',\n",
       " '0:[f3<-0.40985] yes=1,no=2,missing=1\\n\\t1:leaf=-0.0384248\\n\\t2:leaf=-0.00018597\\n',\n",
       " '0:[f1<-1.07552] yes=1,no=2,missing=1\\n\\t1:leaf=0.0295931\\n\\t2:leaf=-0.0180012\\n']"
      ]
     },
     "execution_count": 24,
     "metadata": {},
     "output_type": "execute_result"
    }
   ],
   "source": [
    "booster.get_dump()"
   ]
  },
  {
   "cell_type": "code",
   "execution_count": 13,
   "metadata": {},
   "outputs": [
    {
     "data": {
      "text/plain": [
       "{}"
      ]
     },
     "execution_count": 13,
     "metadata": {},
     "output_type": "execute_result"
    }
   ],
   "source": [
    "booster.attributes()"
   ]
  },
  {
   "cell_type": "code",
   "execution_count": 10,
   "metadata": {},
   "outputs": [
    {
     "data": {
      "text/plain": [
       "['__class__',\n",
       " '__copy__',\n",
       " '__deepcopy__',\n",
       " '__del__',\n",
       " '__delattr__',\n",
       " '__dict__',\n",
       " '__dir__',\n",
       " '__doc__',\n",
       " '__eq__',\n",
       " '__format__',\n",
       " '__ge__',\n",
       " '__getattribute__',\n",
       " '__getstate__',\n",
       " '__gt__',\n",
       " '__hash__',\n",
       " '__init__',\n",
       " '__le__',\n",
       " '__lt__',\n",
       " '__module__',\n",
       " '__ne__',\n",
       " '__new__',\n",
       " '__reduce__',\n",
       " '__reduce_ex__',\n",
       " '__repr__',\n",
       " '__setattr__',\n",
       " '__setstate__',\n",
       " '__sizeof__',\n",
       " '__str__',\n",
       " '__subclasshook__',\n",
       " '__weakref__',\n",
       " '_validate_features',\n",
       " 'attr',\n",
       " 'attributes',\n",
       " 'best_iteration',\n",
       " 'best_ntree_limit',\n",
       " 'boost',\n",
       " 'copy',\n",
       " 'dump_model',\n",
       " 'eval',\n",
       " 'eval_set',\n",
       " 'feature_names',\n",
       " 'feature_types',\n",
       " 'get_dump',\n",
       " 'get_fscore',\n",
       " 'get_score',\n",
       " 'get_split_value_histogram',\n",
       " 'handle',\n",
       " 'load_model',\n",
       " 'load_rabit_checkpoint',\n",
       " 'predict',\n",
       " 'save_model',\n",
       " 'save_rabit_checkpoint',\n",
       " 'save_raw',\n",
       " 'set_attr',\n",
       " 'set_param',\n",
       " 'update']"
      ]
     },
     "execution_count": 10,
     "metadata": {},
     "output_type": "execute_result"
    }
   ],
   "source": [
    "dir(booster)"
   ]
  },
  {
   "cell_type": "code",
   "execution_count": null,
   "metadata": {
    "collapsed": true
   },
   "outputs": [],
   "source": []
  },
  {
   "cell_type": "code",
   "execution_count": 40,
   "metadata": {
    "collapsed": true
   },
   "outputs": [],
   "source": [
    "params = estimator.named_steps['classifier'].get_params()"
   ]
  },
  {
   "cell_type": "code",
   "execution_count": 41,
   "metadata": {},
   "outputs": [
    {
     "ename": "AttributeError",
     "evalue": "'Booster' object has no attribute 'train'",
     "traceback": [
      "\u001b[1;31m---------------------------------------------------------------------------\u001b[0m",
      "\u001b[1;31mAttributeError\u001b[0m                            Traceback (most recent call last)",
      "\u001b[1;32m<ipython-input-41-c0ffcd848dca>\u001b[0m in \u001b[0;36m<module>\u001b[1;34m()\u001b[0m\n\u001b[1;32m----> 1\u001b[1;33m \u001b[0mbooster\u001b[0m\u001b[1;33m.\u001b[0m\u001b[0mtrain\u001b[0m\u001b[1;33m(\u001b[0m\u001b[0mparams\u001b[0m\u001b[1;33m,\u001b[0m\u001b[0mdtrain\u001b[0m\u001b[1;33m,\u001b[0m\u001b[1;36m1\u001b[0m\u001b[1;33m)\u001b[0m\u001b[1;33m\u001b[0m\u001b[0m\n\u001b[0m",
      "\u001b[1;31mAttributeError\u001b[0m: 'Booster' object has no attribute 'train'"
     ],
     "output_type": "error"
    }
   ],
   "source": [
    "booster.train(params,dtrain,1)"
   ]
  },
  {
   "cell_type": "code",
   "execution_count": 36,
   "metadata": {},
   "outputs": [
    {
     "ename": "AttributeError",
     "evalue": "module 'xgboost' has no attribute 'parameters'",
     "traceback": [
      "\u001b[1;31m---------------------------------------------------------------------------\u001b[0m",
      "\u001b[1;31mAttributeError\u001b[0m                            Traceback (most recent call last)",
      "\u001b[1;32m<ipython-input-36-b045719f46f1>\u001b[0m in \u001b[0;36m<module>\u001b[1;34m()\u001b[0m\n\u001b[1;32m----> 1\u001b[1;33m \u001b[0mxgb\u001b[0m\u001b[1;33m.\u001b[0m\u001b[0mparameters\u001b[0m\u001b[1;33m(\u001b[0m\u001b[0mbooster\u001b[0m\u001b[1;33m)\u001b[0m\u001b[1;33m\u001b[0m\u001b[0m\n\u001b[0m",
      "\u001b[1;31mAttributeError\u001b[0m: module 'xgboost' has no attribute 'parameters'"
     ],
     "output_type": "error"
    }
   ],
   "source": [
    "xgb.parameters(booster)"
   ]
  },
  {
   "cell_type": "code",
   "execution_count": 37,
   "metadata": {},
   "outputs": [
    {
     "data": {
      "text/plain": [
       "['Booster',\n",
       " 'DMatrix',\n",
       " 'VERSION_FILE',\n",
       " 'XGBClassifier',\n",
       " 'XGBModel',\n",
       " 'XGBRegressor',\n",
       " '__all__',\n",
       " '__builtins__',\n",
       " '__cached__',\n",
       " '__doc__',\n",
       " '__file__',\n",
       " '__loader__',\n",
       " '__name__',\n",
       " '__package__',\n",
       " '__path__',\n",
       " '__spec__',\n",
       " '__version__',\n",
       " 'absolute_import',\n",
       " 'callback',\n",
       " 'compat',\n",
       " 'core',\n",
       " 'cv',\n",
       " 'f',\n",
       " 'libpath',\n",
       " 'os',\n",
       " 'plot_importance',\n",
       " 'plot_tree',\n",
       " 'plotting',\n",
       " 'rabit',\n",
       " 'sklearn',\n",
       " 'to_graphviz',\n",
       " 'train',\n",
       " 'training']"
      ]
     },
     "execution_count": 37,
     "metadata": {},
     "output_type": "execute_result"
    }
   ],
   "source": [
    "dir(xgb)"
   ]
  },
  {
   "cell_type": "code",
   "execution_count": null,
   "metadata": {
    "collapsed": true
   },
   "outputs": [],
   "source": [
    "\n",
    "booster.boost(dtrain)"
   ]
  },
  {
   "cell_type": "code",
   "execution_count": 21,
   "metadata": {},
   "outputs": [
    {
     "data": {
      "text/plain": [
       "['__class__',\n",
       " '__copy__',\n",
       " '__deepcopy__',\n",
       " '__del__',\n",
       " '__delattr__',\n",
       " '__dict__',\n",
       " '__dir__',\n",
       " '__doc__',\n",
       " '__eq__',\n",
       " '__format__',\n",
       " '__ge__',\n",
       " '__getattribute__',\n",
       " '__getstate__',\n",
       " '__gt__',\n",
       " '__hash__',\n",
       " '__init__',\n",
       " '__le__',\n",
       " '__lt__',\n",
       " '__module__',\n",
       " '__ne__',\n",
       " '__new__',\n",
       " '__reduce__',\n",
       " '__reduce_ex__',\n",
       " '__repr__',\n",
       " '__setattr__',\n",
       " '__setstate__',\n",
       " '__sizeof__',\n",
       " '__str__',\n",
       " '__subclasshook__',\n",
       " '__weakref__',\n",
       " '_validate_features',\n",
       " 'attr',\n",
       " 'attributes',\n",
       " 'best_iteration',\n",
       " 'best_ntree_limit',\n",
       " 'boost',\n",
       " 'copy',\n",
       " 'dump_model',\n",
       " 'eval',\n",
       " 'eval_set',\n",
       " 'feature_names',\n",
       " 'feature_types',\n",
       " 'get_dump',\n",
       " 'get_fscore',\n",
       " 'get_score',\n",
       " 'get_split_value_histogram',\n",
       " 'handle',\n",
       " 'load_model',\n",
       " 'load_rabit_checkpoint',\n",
       " 'predict',\n",
       " 'save_model',\n",
       " 'save_rabit_checkpoint',\n",
       " 'save_raw',\n",
       " 'set_attr',\n",
       " 'set_param',\n",
       " 'update']"
      ]
     },
     "execution_count": 21,
     "metadata": {},
     "output_type": "execute_result"
    }
   ],
   "source": [
    "dir(booster)"
   ]
  },
  {
   "cell_type": "code",
   "execution_count": 34,
   "metadata": {},
   "outputs": [
    {
     "data": {
      "text/plain": [
       "{'base_score': 0.5,\n",
       " 'booster': 'gbtree',\n",
       " 'colsample_bylevel': 1,\n",
       " 'colsample_bytree': 1,\n",
       " 'gamma': 0,\n",
       " 'learning_rate': 0.1,\n",
       " 'max_delta_step': 0,\n",
       " 'max_depth': 3,\n",
       " 'min_child_weight': 1,\n",
       " 'missing': None,\n",
       " 'n_estimators': 100,\n",
       " 'nthread': 1,\n",
       " 'objective': 'multi:softprob',\n",
       " 'reg_alpha': 0,\n",
       " 'reg_lambda': 1,\n",
       " 'scale_pos_weight': 1,\n",
       " 'seed': 0,\n",
       " 'silent': 1,\n",
       " 'subsample': 1}"
      ]
     },
     "execution_count": 34,
     "metadata": {},
     "output_type": "execute_result"
    }
   ],
   "source": [
    "estimator.named_steps['classifier'].get_xgb_params()"
   ]
  },
  {
   "cell_type": "code",
   "execution_count": null,
   "metadata": {
    "collapsed": true
   },
   "outputs": [],
   "source": []
  }
 ],
 "metadata": {
  "kernelspec": {
   "display_name": "Python [conda env:gpu]",
   "language": "python",
   "name": "conda-env-gpu-py"
  },
  "language_info": {
   "codemirror_mode": {
    "name": "ipython",
    "version": 3
   },
   "file_extension": ".py",
   "mimetype": "text/x-python",
   "name": "python",
   "nbconvert_exporter": "python",
   "pygments_lexer": "ipython3",
   "version": "3.5.4"
  }
 },
 "nbformat": 4,
 "nbformat_minor": 2
}
