{
 "cells": [
  {
   "cell_type": "code",
   "execution_count": 6,
   "metadata": {
    "collapsed": true
   },
   "outputs": [],
   "source": [
    "import numpy as np\n",
    "def get_random_hyperparameter_configuration():\n",
    "    #print(\"get random hyperparameter configuration...\")\n",
    "    return 0\n",
    "def run_then_return_val_loss(num_iters,hyperparameters):\n",
    "    return np.random.rand()"
   ]
  },
  {
   "cell_type": "code",
   "execution_count": 10,
   "metadata": {},
   "outputs": [
    {
     "name": "stdout",
     "output_type": "stream",
     "text": [
      "4 405\n",
      "4 81 1.0\n",
      "3 27 3.0\n",
      "2 9 9.0\n",
      "1 6 27.0\n",
      "0 5 81\n"
     ]
    }
   ],
   "source": [
    "#from problem import get_random_hyperparameter_configuration,run_then_return_val_loss\n",
    "\n",
    "max_iter = 81  # maximum iterations/epochs per configuration\n",
    "eta = 3 # defines downsampling rate (default=3)\n",
    "logeta = lambda x: np.log(x)/np.log(eta)\n",
    "s_max = int(logeta(max_iter))  # number of unique executions of Successive Halving (minus one)\n",
    "B = (s_max+1)*max_iter  # total number of iterations (without reuse) per execution of Succesive Halving (n,r)\n",
    "\n",
    "print(s_max,B)\n",
    "#### Begin Finite Horizon Hyperband outlerloop. Repeat indefinetely.\n",
    "for s in reversed(range(s_max+1)):\n",
    "    n = int(np.ceil(int(B/max_iter/(s+1))*eta**s)) # initial number of configurations\n",
    "    r = max_iter*eta**(-s) # initial number of iterations to run configurations for\n",
    "    print(s,n,r)\n",
    "    #### Begin Finite Horizon Successive Halving with (n,r)\n",
    "    T = [ get_random_hyperparameter_configuration() for i in range(n) ] \n",
    "    for i in range(s+1):\n",
    "        # Run each of the n_i configs for r_i iterations and keep best n_i/eta\n",
    "        n_i = n*eta**(-i)\n",
    "        r_i = r*eta**(i)\n",
    "        val_losses = [ run_then_return_val_loss(num_iters=r_i,hyperparameters=t) for t in T ]\n",
    "        T = [ T[i] for i in np.argsort(val_losses)[0:int( n_i/eta )] ]"
   ]
  },
  {
   "cell_type": "code",
   "execution_count": null,
   "metadata": {
    "collapsed": true
   },
   "outputs": [],
   "source": []
  }
 ],
 "metadata": {
  "kernelspec": {
   "display_name": "Python [conda env:gpu]",
   "language": "python",
   "name": "conda-env-gpu-py"
  },
  "language_info": {
   "codemirror_mode": {
    "name": "ipython",
    "version": 3
   },
   "file_extension": ".py",
   "mimetype": "text/x-python",
   "name": "python",
   "nbconvert_exporter": "python",
   "pygments_lexer": "ipython3",
   "version": "3.5.4"
  }
 },
 "nbformat": 4,
 "nbformat_minor": 2
}
